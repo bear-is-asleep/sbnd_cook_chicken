{
 "cells": [
  {
   "cell_type": "code",
   "execution_count": 1,
   "metadata": {},
   "outputs": [],
   "source": [
    "import numpy as np\n",
    "import uproot\n",
    "\n",
    "%load_ext autoreload\n",
    "%autoreload 2"
   ]
  },
  {
   "cell_type": "code",
   "execution_count": 2,
   "metadata": {},
   "outputs": [],
   "source": [
    "Ev = 0.8\n",
    "frac_dep = 0.5\n",
    "\n",
    "#Age of universe\n",
    "t_universe = 13.7e9 #years\n",
    "\n",
    "#number of scatterers\n",
    "chicken_volume = 3000 #cm3\n",
    "detector_volume = 400*400*500 #cm3\n",
    "\n",
    "p_ar = 1.7857 #g/L\n",
    "p_water = 1 #g/L\n",
    "\n",
    "m_ar = 39.948 #u\n",
    "m_water = 2*1.0078+15.999\n",
    "\n",
    "#ratio of cross sections\n",
    "z_ar = 18\n",
    "z_water = 2+8\n",
    "\n",
    "#number of sbnd events for 10e20 POT\n",
    "N_sbnd = 6.5e6 #6.5m events\n",
    "N_chicken = (p_water*m_ar*z_water**2*chicken_volume)/(p_ar*m_water*z_ar**2*detector_volume)*N_sbnd"
   ]
  },
  {
   "cell_type": "code",
   "execution_count": 3,
   "metadata": {},
   "outputs": [
    {
     "data": {
      "text/plain": [
       "(93.42466158047984, 37.369864632191934)"
      ]
     },
     "execution_count": 3,
     "metadata": {},
     "output_type": "execute_result"
    }
   ],
   "source": [
    "N_chicken,N_chicken*Ev*frac_dep"
   ]
  },
  {
   "cell_type": "code",
   "execution_count": 4,
   "metadata": {},
   "outputs": [
    {
     "data": {
      "text/plain": [
       "4.30698"
      ]
     },
     "execution_count": 4,
     "metadata": {},
     "output_type": "execute_result"
    }
   ],
   "source": [
    "#Energy deposited in chicken\n",
    "#https://www.quora.com/If-kinetic-energy-is-converted-into-thermal-energy-how-hard-do-I-have-to-slap-a-chicken-to-cook-it\n",
    "chicken_mass = 3 #kg\n",
    "chicken_eng = 230*chicken_mass*6.242e+12 #GeV\n",
    "eng_per_nu = Ev*frac_dep\n",
    "nu_to_cook = chicken_eng/(eng_per_nu*frac_dep)\n",
    "chicken_eng/1e15"
   ]
  },
  {
   "cell_type": "code",
   "execution_count": 5,
   "metadata": {},
   "outputs": [
    {
     "data": {
      "text/plain": [
       "(76.83517262533852, 5608.406760973614)"
      ]
     },
     "execution_count": 5,
     "metadata": {},
     "output_type": "execute_result"
    }
   ],
   "source": [
    "years_to_cook = nu_to_cook/N_chicken/3 #years to cook the chicken, 3 for 3 years of POT\n",
    "t_universe_to_cook = years_to_cook/t_universe\n",
    "years_to_cook/1e12,t_universe_to_cook"
   ]
  },
  {
   "cell_type": "code",
   "execution_count": 6,
   "metadata": {},
   "outputs": [
    {
     "data": {
      "text/plain": [
       "(54.71129336917741, 1.8440441430081246e+36)"
      ]
     },
     "execution_count": 6,
     "metadata": {},
     "output_type": "execute_result"
    }
   ],
   "source": [
    "eng_per_proton = 8 #GeV\n",
    "POT_to_cook = nu_to_cook/N_chicken*1e21 #POT to cook the chicken\n",
    "eng_POT = eng_per_proton*POT_to_cook\n",
    "m_earth = 5.97e24*5.6175e26\n",
    "m_everest = 810e12*5.6175e26\n",
    "m_person = 60*5.6175e26\n",
    "eng_POT/m_person/1e6,eng_POT"
   ]
  },
  {
   "cell_type": "code",
   "execution_count": 8,
   "metadata": {},
   "outputs": [
    {
     "data": {
      "text/plain": [
       "2.3050551787601557e+35"
      ]
     },
     "execution_count": 8,
     "metadata": {},
     "output_type": "execute_result"
    }
   ],
   "source": [
    "POT_to_cook"
   ]
  },
  {
   "cell_type": "code",
   "execution_count": null,
   "metadata": {},
   "outputs": [],
   "source": []
  }
 ],
 "metadata": {
  "kernelspec": {
   "display_name": "Python 3",
   "language": "python",
   "name": "python3"
  },
  "language_info": {
   "codemirror_mode": {
    "name": "ipython",
    "version": 3
   },
   "file_extension": ".py",
   "mimetype": "text/x-python",
   "name": "python",
   "nbconvert_exporter": "python",
   "pygments_lexer": "ipython3",
   "version": "3.9.10"
  },
  "orig_nbformat": 4
 },
 "nbformat": 4,
 "nbformat_minor": 2
}
